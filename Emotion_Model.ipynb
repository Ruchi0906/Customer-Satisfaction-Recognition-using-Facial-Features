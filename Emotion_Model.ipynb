{
 "cells": [
  {
   "cell_type": "code",
   "execution_count": 1,
   "id": "aae679fc",
   "metadata": {},
   "outputs": [],
   "source": [
    "import pandas as pd\n",
    "import numpy as np\n",
    "from tensorflow.keras.utils import to_categorical\n",
    "from keras.models import Sequential\n",
    "from keras.layers.core import Flatten , Dense , Dropout , Activation\n",
    "from keras.layers.convolutional import Convolution2D , MaxPooling2D , ZeroPadding2D\n",
    "from keras.losses import categorical_crossentropy\n",
    "from tensorflow.keras.optimizers import SGD , Adam\n",
    "import os\n",
    "from sklearn.model_selection import train_test_split"
   ]
  },
  {
   "cell_type": "code",
   "execution_count": 2,
   "id": "17b35b44",
   "metadata": {},
   "outputs": [],
   "source": [
    "emotion_data = pd.read_csv(\"C:/Users/Ruchita/Desktop/Project_Dataset/fer2013.csv\")"
   ]
  },
  {
   "cell_type": "code",
   "execution_count": 3,
   "id": "0b9b13e7",
   "metadata": {},
   "outputs": [
    {
     "data": {
      "text/html": [
       "<div>\n",
       "<style scoped>\n",
       "    .dataframe tbody tr th:only-of-type {\n",
       "        vertical-align: middle;\n",
       "    }\n",
       "\n",
       "    .dataframe tbody tr th {\n",
       "        vertical-align: top;\n",
       "    }\n",
       "\n",
       "    .dataframe thead th {\n",
       "        text-align: right;\n",
       "    }\n",
       "</style>\n",
       "<table border=\"1\" class=\"dataframe\">\n",
       "  <thead>\n",
       "    <tr style=\"text-align: right;\">\n",
       "      <th></th>\n",
       "      <th>emotion</th>\n",
       "      <th>pixels</th>\n",
       "      <th>Usage</th>\n",
       "    </tr>\n",
       "  </thead>\n",
       "  <tbody>\n",
       "    <tr>\n",
       "      <th>0</th>\n",
       "      <td>0</td>\n",
       "      <td>70 80 82 72 58 58 60 63 54 58 60 48 89 115 121...</td>\n",
       "      <td>Training</td>\n",
       "    </tr>\n",
       "    <tr>\n",
       "      <th>1</th>\n",
       "      <td>0</td>\n",
       "      <td>151 150 147 155 148 133 111 140 170 174 182 15...</td>\n",
       "      <td>Training</td>\n",
       "    </tr>\n",
       "    <tr>\n",
       "      <th>2</th>\n",
       "      <td>2</td>\n",
       "      <td>231 212 156 164 174 138 161 173 182 200 106 38...</td>\n",
       "      <td>Training</td>\n",
       "    </tr>\n",
       "    <tr>\n",
       "      <th>3</th>\n",
       "      <td>4</td>\n",
       "      <td>24 32 36 30 32 23 19 20 30 41 21 22 32 34 21 1...</td>\n",
       "      <td>Training</td>\n",
       "    </tr>\n",
       "    <tr>\n",
       "      <th>4</th>\n",
       "      <td>6</td>\n",
       "      <td>4 0 0 0 0 0 0 0 0 0 0 0 3 15 23 28 48 50 58 84...</td>\n",
       "      <td>Training</td>\n",
       "    </tr>\n",
       "    <tr>\n",
       "      <th>...</th>\n",
       "      <td>...</td>\n",
       "      <td>...</td>\n",
       "      <td>...</td>\n",
       "    </tr>\n",
       "    <tr>\n",
       "      <th>35882</th>\n",
       "      <td>6</td>\n",
       "      <td>50 36 17 22 23 29 33 39 34 37 37 37 39 43 48 5...</td>\n",
       "      <td>PrivateTest</td>\n",
       "    </tr>\n",
       "    <tr>\n",
       "      <th>35883</th>\n",
       "      <td>3</td>\n",
       "      <td>178 174 172 173 181 188 191 194 196 199 200 20...</td>\n",
       "      <td>PrivateTest</td>\n",
       "    </tr>\n",
       "    <tr>\n",
       "      <th>35884</th>\n",
       "      <td>0</td>\n",
       "      <td>17 17 16 23 28 22 19 17 25 26 20 24 31 19 27 9...</td>\n",
       "      <td>PrivateTest</td>\n",
       "    </tr>\n",
       "    <tr>\n",
       "      <th>35885</th>\n",
       "      <td>3</td>\n",
       "      <td>30 28 28 29 31 30 42 68 79 81 77 67 67 71 63 6...</td>\n",
       "      <td>PrivateTest</td>\n",
       "    </tr>\n",
       "    <tr>\n",
       "      <th>35886</th>\n",
       "      <td>2</td>\n",
       "      <td>19 13 14 12 13 16 21 33 50 57 71 84 97 108 122...</td>\n",
       "      <td>PrivateTest</td>\n",
       "    </tr>\n",
       "  </tbody>\n",
       "</table>\n",
       "<p>35887 rows × 3 columns</p>\n",
       "</div>"
      ],
      "text/plain": [
       "       emotion                                             pixels        Usage\n",
       "0            0  70 80 82 72 58 58 60 63 54 58 60 48 89 115 121...     Training\n",
       "1            0  151 150 147 155 148 133 111 140 170 174 182 15...     Training\n",
       "2            2  231 212 156 164 174 138 161 173 182 200 106 38...     Training\n",
       "3            4  24 32 36 30 32 23 19 20 30 41 21 22 32 34 21 1...     Training\n",
       "4            6  4 0 0 0 0 0 0 0 0 0 0 0 3 15 23 28 48 50 58 84...     Training\n",
       "...        ...                                                ...          ...\n",
       "35882        6  50 36 17 22 23 29 33 39 34 37 37 37 39 43 48 5...  PrivateTest\n",
       "35883        3  178 174 172 173 181 188 191 194 196 199 200 20...  PrivateTest\n",
       "35884        0  17 17 16 23 28 22 19 17 25 26 20 24 31 19 27 9...  PrivateTest\n",
       "35885        3  30 28 28 29 31 30 42 68 79 81 77 67 67 71 63 6...  PrivateTest\n",
       "35886        2  19 13 14 12 13 16 21 33 50 57 71 84 97 108 122...  PrivateTest\n",
       "\n",
       "[35887 rows x 3 columns]"
      ]
     },
     "execution_count": 3,
     "metadata": {},
     "output_type": "execute_result"
    }
   ],
   "source": [
    "emotion_data"
   ]
  },
  {
   "cell_type": "code",
   "execution_count": 4,
   "id": "e23112cb",
   "metadata": {},
   "outputs": [],
   "source": [
    "X_train = []\n",
    "Y_train = []\n",
    "X_test = []\n",
    "Y_test = [] \n",
    "for index , row in emotion_data.iterrows():\n",
    "    k = row['pixels'].split(\" \")\n",
    "    if row['Usage'] == 'Training':\n",
    "        X_train.append(np.array(k , 'float32'))\n",
    "        Y_train.append(row['emotion'])\n",
    "    elif row['Usage'] == 'PublicTest':\n",
    "        X_test.append(np.array(k , 'float32'))\n",
    "        Y_test.append(row['emotion'])"
   ]
  },
  {
   "cell_type": "code",
   "execution_count": 5,
   "id": "b5e36cd5",
   "metadata": {},
   "outputs": [],
   "source": [
    "X_train = np.array(X_train , 'float32')\n",
    "Y_train = np.array(Y_train , 'float32')\n",
    "X_test = np.array(X_test , 'float32')\n",
    "Y_test = np.array(Y_test , 'float32')\n",
    "\n",
    "X_train = X_train.reshape(X_train.shape[0] , 48 , 48 , 1)\n",
    "X_test = X_test.reshape(X_test.shape[0] , 48 , 48 , 1)\n",
    "\n",
    "Y_train = to_categorical(Y_train , num_classes = 7)\n",
    "Y_test = to_categorical(Y_test , num_classes = 7)"
   ]
  },
  {
   "cell_type": "code",
   "execution_count": 6,
   "id": "5bcf1ec3",
   "metadata": {},
   "outputs": [],
   "source": [
    "model = Sequential()\n",
    "\n",
    "model.add(Convolution2D(input_shape = (48 , 48 , 1) , filters = 64 , kernel_size = (3 , 3) , padding = 'same' , activation = 'relu'))\n",
    "model.add(Convolution2D(filters = 64 , kernel_size = (3 , 3) , padding = 'same' , activation = 'relu'))\n",
    "model.add(MaxPooling2D(pool_size = (2 , 2) , strides = (2 , 2)))\n",
    "\n",
    "model.add(Convolution2D(filters = 128 , kernel_size = (3 , 3) , padding = 'same' , activation = 'relu'))\n",
    "model.add(Convolution2D(filters = 128 , kernel_size = (3 , 3) , padding = 'same' , activation = 'relu'))\n",
    "model.add(MaxPooling2D(pool_size = (2 , 2) , strides = (2 , 2)))\n",
    "\n",
    "model.add(Convolution2D(filters = 256 , kernel_size = (3 , 3) , padding = 'same' , activation = 'relu'))\n",
    "model.add(Convolution2D(filters = 256 , kernel_size = (3 , 3) , padding = 'same' , activation = 'relu'))\n",
    "model.add(Convolution2D(filters = 256 , kernel_size = (3 , 3) , padding = 'same' , activation = 'relu'))\n",
    "model.add(Convolution2D(filters = 256 , kernel_size = (3 , 3) , padding = 'same' , activation = 'relu'))\n",
    "model.add(MaxPooling2D(pool_size = (2 , 2) , strides = (2 , 2)))\n",
    "\n",
    "model.add(Convolution2D(filters = 512 , kernel_size = (3 , 3) , padding = 'same' , activation = 'relu'))\n",
    "model.add(Convolution2D(filters = 512 , kernel_size = (3 , 3) , padding = 'same' , activation = 'relu'))\n",
    "model.add(Convolution2D(filters = 512 , kernel_size = (3 , 3) , padding = 'same' , activation = 'relu'))\n",
    "model.add(Convolution2D(filters = 512 , kernel_size = (3 , 3) , padding = 'same' , activation = 'relu'))\n",
    "model.add(MaxPooling2D(pool_size = (2 , 2) , strides = (2 , 2)))\n",
    "\n",
    "model.add(Convolution2D(filters = 512 , kernel_size = (3 , 3) , padding = 'same' , activation = 'relu'))\n",
    "model.add(Convolution2D(filters = 512 , kernel_size = (3 , 3) , padding = 'same' , activation = 'relu'))\n",
    "model.add(Convolution2D(filters = 512 , kernel_size = (3 , 3) , padding = 'same' , activation = 'relu'))\n",
    "model.add(Convolution2D(filters = 512 , kernel_size = (3 , 3) , padding = 'same' , activation = 'relu'))\n",
    "model.add(MaxPooling2D(pool_size = (2 , 2) , strides = (2 , 2)))\n",
    "\n",
    "model.add(Flatten())\n",
    "model.add(Dense(units = 4096 , activation = 'relu'))\n",
    "model.add(Dense(units = 4096 , activation = 'relu'))\n",
    "model.add(Dense(units = 7 , activation = 'softmax'))"
   ]
  },
  {
   "cell_type": "code",
   "execution_count": 7,
   "id": "4556f3aa",
   "metadata": {},
   "outputs": [],
   "source": [
    "model.compile(optimizer = 'SGD' , loss = 'categorical_crossentropy' , metrics = ['accuracy'])"
   ]
  },
  {
   "cell_type": "code",
   "execution_count": 8,
   "id": "86ebff11",
   "metadata": {},
   "outputs": [
    {
     "name": "stdout",
     "output_type": "stream",
     "text": [
      "Epoch 1/30\n",
      "718/718 [==============================] - 1168s 2s/step - loss: 1.8220 - accuracy: 0.2490 - val_loss: 1.7980 - val_accuracy: 0.2517\n",
      "Epoch 2/30\n",
      "718/718 [==============================] - 1210s 2s/step - loss: 1.7643 - accuracy: 0.2789 - val_loss: 1.6654 - val_accuracy: 0.3544\n",
      "Epoch 3/30\n",
      "718/718 [==============================] - 1253s 2s/step - loss: 1.6213 - accuracy: 0.3667 - val_loss: 1.5678 - val_accuracy: 0.3892\n",
      "Epoch 4/30\n",
      "718/718 [==============================] - 1338s 2s/step - loss: 1.5142 - accuracy: 0.4144 - val_loss: 1.4809 - val_accuracy: 0.4188\n",
      "Epoch 5/30\n",
      "718/718 [==============================] - 1596s 2s/step - loss: 1.4322 - accuracy: 0.4473 - val_loss: 1.3860 - val_accuracy: 0.4608\n",
      "Epoch 6/30\n",
      "718/718 [==============================] - 1603s 2s/step - loss: 1.3540 - accuracy: 0.4751 - val_loss: 1.3564 - val_accuracy: 0.4713\n",
      "Epoch 7/30\n",
      "718/718 [==============================] - 4425s 6s/step - loss: 1.2775 - accuracy: 0.5146 - val_loss: 1.2799 - val_accuracy: 0.5202\n",
      "Epoch 8/30\n",
      "718/718 [==============================] - 1585s 2s/step - loss: 1.2069 - accuracy: 0.5423 - val_loss: 1.2561 - val_accuracy: 0.5197\n",
      "Epoch 9/30\n",
      "718/718 [==============================] - 1169s 2s/step - loss: 1.1335 - accuracy: 0.5740 - val_loss: 1.3119 - val_accuracy: 0.4902\n",
      "Epoch 10/30\n",
      "718/718 [==============================] - 1208s 2s/step - loss: 1.0633 - accuracy: 0.6017 - val_loss: 1.1813 - val_accuracy: 0.5599\n",
      "Epoch 11/30\n",
      "718/718 [==============================] - 1244s 2s/step - loss: 0.9841 - accuracy: 0.6350 - val_loss: 1.3633 - val_accuracy: 0.5115\n",
      "Epoch 12/30\n",
      "718/718 [==============================] - 1148s 2s/step - loss: 0.9169 - accuracy: 0.6608 - val_loss: 1.2588 - val_accuracy: 0.5521\n",
      "Epoch 13/30\n",
      "718/718 [==============================] - 1250s 2s/step - loss: 0.8381 - accuracy: 0.6923 - val_loss: 1.2598 - val_accuracy: 0.5599\n",
      "Epoch 14/30\n",
      "718/718 [==============================] - 1603s 2s/step - loss: 0.7462 - accuracy: 0.7255 - val_loss: 1.3021 - val_accuracy: 0.5556\n",
      "Epoch 15/30\n",
      "718/718 [==============================] - 1553s 2s/step - loss: 0.6712 - accuracy: 0.7560 - val_loss: 1.2870 - val_accuracy: 0.5556\n",
      "Epoch 16/30\n",
      "718/718 [==============================] - 1171s 2s/step - loss: 0.5867 - accuracy: 0.7860 - val_loss: 1.5089 - val_accuracy: 0.5622\n",
      "Epoch 17/30\n",
      "718/718 [==============================] - 1156s 2s/step - loss: 0.5146 - accuracy: 0.8137 - val_loss: 1.8593 - val_accuracy: 0.5084\n",
      "Epoch 18/30\n",
      "718/718 [==============================] - 2837s 4s/step - loss: 0.4470 - accuracy: 0.8409 - val_loss: 1.5202 - val_accuracy: 0.5702\n",
      "Epoch 19/30\n",
      "718/718 [==============================] - 1635s 2s/step - loss: 0.3837 - accuracy: 0.8643 - val_loss: 1.6145 - val_accuracy: 0.5629\n",
      "Epoch 20/30\n",
      "718/718 [==============================] - 1635s 2s/step - loss: 0.3213 - accuracy: 0.8890 - val_loss: 1.6960 - val_accuracy: 0.5582\n",
      "Epoch 21/30\n",
      "718/718 [==============================] - 1626s 2s/step - loss: 0.2685 - accuracy: 0.9091 - val_loss: 1.9535 - val_accuracy: 0.5545\n",
      "Epoch 22/30\n",
      "718/718 [==============================] - 1255s 2s/step - loss: 0.2328 - accuracy: 0.9222 - val_loss: 1.9751 - val_accuracy: 0.5502\n",
      "Epoch 23/30\n",
      "718/718 [==============================] - 31262s 44s/step - loss: 0.1938 - accuracy: 0.9352 - val_loss: 1.9913 - val_accuracy: 0.5660\n",
      "Epoch 24/30\n",
      "718/718 [==============================] - 1661s 2s/step - loss: 0.1688 - accuracy: 0.9444 - val_loss: 1.8235 - val_accuracy: 0.5684\n",
      "Epoch 25/30\n",
      "718/718 [==============================] - 1575s 2s/step - loss: 0.1506 - accuracy: 0.9511 - val_loss: 1.9628 - val_accuracy: 0.5627\n",
      "Epoch 26/30\n",
      "718/718 [==============================] - 2334s 3s/step - loss: 0.1271 - accuracy: 0.9592 - val_loss: 2.2702 - val_accuracy: 0.5677\n",
      "Epoch 27/30\n",
      "718/718 [==============================] - 2165s 3s/step - loss: 0.1143 - accuracy: 0.9638 - val_loss: 1.9748 - val_accuracy: 0.5714\n",
      "Epoch 28/30\n",
      "718/718 [==============================] - 1282s 2s/step - loss: 0.0926 - accuracy: 0.9710 - val_loss: 2.2232 - val_accuracy: 0.5819\n",
      "Epoch 29/30\n",
      "718/718 [==============================] - 1398s 2s/step - loss: 0.0922 - accuracy: 0.9721 - val_loss: 1.9648 - val_accuracy: 0.5782\n",
      "Epoch 30/30\n",
      "718/718 [==============================] - 1261s 2s/step - loss: 0.0821 - accuracy: 0.9734 - val_loss: 2.0486 - val_accuracy: 0.5777\n"
     ]
    },
    {
     "data": {
      "text/plain": [
       "<keras.callbacks.History at 0x1f547c92af0>"
      ]
     },
     "execution_count": 8,
     "metadata": {},
     "output_type": "execute_result"
    }
   ],
   "source": [
    "model.fit(X_train , Y_train , batch_size = 32 , epochs = 30,verbose = 1 , validation_data = (X_test , Y_test) ,validation_split=0.2)"
   ]
  },
  {
   "cell_type": "code",
   "execution_count": 9,
   "id": "0bf836e4",
   "metadata": {},
   "outputs": [
    {
     "name": "stdout",
     "output_type": "stream",
     "text": [
      "113/113 [==============================] - 30s 264ms/step - loss: 2.1056 - accuracy: 0.5706\n",
      "[2.105581521987915, 0.5706325173377991]\n"
     ]
    }
   ],
   "source": [
    "loss_and_metrics = model.evaluate(X_test , Y_test)\n",
    "print(loss_and_metrics)"
   ]
  },
  {
   "cell_type": "code",
   "execution_count": 10,
   "id": "27d8764c",
   "metadata": {},
   "outputs": [
    {
     "name": "stdout",
     "output_type": "stream",
     "text": [
      "Saved model to disk\n"
     ]
    }
   ],
   "source": [
    "model_json = model.to_json()\n",
    "with open(\"model_emotion.json\" , \"w\") as json_file:\n",
    "    json_file.write(model_json)\n",
    "    model.save_weights(\"model_emotion.h5\")\n",
    "    print(\"Saved model to disk\")"
   ]
  },
  {
   "cell_type": "code",
   "execution_count": null,
   "id": "6190e573",
   "metadata": {},
   "outputs": [],
   "source": []
  },
  {
   "cell_type": "code",
   "execution_count": null,
   "id": "ba01d17b",
   "metadata": {},
   "outputs": [],
   "source": []
  },
  {
   "cell_type": "code",
   "execution_count": null,
   "id": "b4b744b8",
   "metadata": {},
   "outputs": [],
   "source": []
  },
  {
   "cell_type": "code",
   "execution_count": null,
   "id": "1f4483fd",
   "metadata": {},
   "outputs": [],
   "source": []
  },
  {
   "cell_type": "code",
   "execution_count": null,
   "id": "d68f0d7c",
   "metadata": {},
   "outputs": [],
   "source": []
  }
 ],
 "metadata": {
  "kernelspec": {
   "display_name": "Python 3",
   "language": "python",
   "name": "python3"
  },
  "language_info": {
   "codemirror_mode": {
    "name": "ipython",
    "version": 3
   },
   "file_extension": ".py",
   "mimetype": "text/x-python",
   "name": "python",
   "nbconvert_exporter": "python",
   "pygments_lexer": "ipython3",
   "version": "3.8.8"
  }
 },
 "nbformat": 4,
 "nbformat_minor": 5
}
