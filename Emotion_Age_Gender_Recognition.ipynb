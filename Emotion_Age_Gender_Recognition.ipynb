{
 "cells": [
  {
   "cell_type": "code",
   "execution_count": 3,
   "id": "65b513e8",
   "metadata": {},
   "outputs": [],
   "source": [
    "import numpy as np \n",
    "import cv2\n",
    "import os\n",
    "from tensorflow.python.keras.preprocessing.image import img_to_array\n",
    "from keras.models import model_from_json\n",
    "from keras.preprocessing import image\n",
    "os.chdir(\"C:/Users/Ruchita/Desktop/Project_Dataset/\")"
   ]
  },
  {
   "cell_type": "code",
   "execution_count": 4,
   "id": "85cf1261",
   "metadata": {},
   "outputs": [],
   "source": [
    "face_cascade = cv2.CascadeClassifier(\"haarcascade_frontalface_default.xml\")\n",
    "\n",
    "model_emotion = model_from_json(open(\"model_emotion.json\" , \"r\").read())\n",
    "model_emotion.load_weights(\"model_emotion.h5\")\n",
    "\n",
    "model_age = model_from_json(open(\"model_age.json\" , \"r\").read())\n",
    "model_age.load_weights(\"model_age.h5\")\n",
    "\n",
    "model_gender = model_from_json(open(\"model_gender.json\" , \"r\").read())\n",
    "model_gender.load_weights(\"model_gender.h5\")\n",
    "\n",
    "Emo_lable = ['Angry' , 'Disgust' , 'Fear' , 'Happy' , 'Sad' , 'Surprise' , 'Neutral']\n",
    "age_lable = ['0-18 years' , '19-45 years' , '46-60 years' , 'above 60 years']\n",
    "gen_lable = ['Male' , 'Female']"
   ]
  },
  {
   "cell_type": "code",
   "execution_count": 5,
   "id": "15878d54",
   "metadata": {},
   "outputs": [
    {
     "data": {
      "text/plain": [
       "<function destroyAllWindows>"
      ]
     },
     "execution_count": 5,
     "metadata": {},
     "output_type": "execute_result"
    }
   ],
   "source": [
    "cap = cv2.VideoCapture(0)\n",
    "\n",
    "while True:\n",
    "    _ , image = cap.read()\n",
    "    gray_image = cv2.cvtColor(image , cv2.COLOR_BGR2GRAY)\n",
    "\n",
    "    faces_detected = face_cascade.detectMultiScale(gray_image)\n",
    "    for(x , y , w , h) in faces_detected:\n",
    "        cv2.rectangle(image , (x , y) , (x+w , y+h) , (255 , 0 , 0))\n",
    "        \n",
    "        roi_gray = gray_image[y:y+w , x:x+h]\n",
    "        roi_gray = cv2.resize(roi_gray , (48 , 48), interpolation=cv2.INTER_AREA)\n",
    "        \n",
    "        if np.sum([roi_gray])!=0:\n",
    "            image_pixels = roi_gray.astype('float')# /255.0\n",
    "            image_pixels = img_to_array(image_pixels)\n",
    "            image_pixels = np.expand_dims(image_pixels , axis = 0)\n",
    "     \n",
    "\n",
    "            #emotion detection\n",
    "            predictions = model_emotion.predict(image_pixels)\n",
    "            max_index = max_index = Emo_lable[predictions.argmax()]\n",
    "            label_position = (x,y)\n",
    "\n",
    "            cv2.putText(image,max_index,label_position,cv2.FONT_HERSHEY_SIMPLEX,2,(0,255,0),3)\n",
    "\n",
    "            #age\n",
    "            predictions = model_age.predict(image_pixels)\n",
    "            max_index = max_index = age_lable[predictions.argmax()]\n",
    "            label_position = (x, y+h)\n",
    "\n",
    "            cv2.putText(image,max_index,label_position,cv2.FONT_HERSHEY_SIMPLEX,1,(0,255,0),2)\n",
    "\n",
    "            #gender\n",
    "            predictions = model_gender.predict(image_pixels)\n",
    "            max_index = max_index = gen_lable[predictions.argmax()]\n",
    "            label_position = (x, y+h+35)\n",
    "\n",
    "            cv2.putText(image,max_index,label_position,cv2.FONT_HERSHEY_SIMPLEX,1,(0,255,0),2)\n",
    "\n",
    "            \n",
    "\n",
    "        else:\n",
    "            cv2.putText(image,'No Face Found',(20,60),cv2.FONT_HERSHEY_SIMPLEX,2,(0,255,0),3)\n",
    "\n",
    "\n",
    "\n",
    "        cv2.imshow('Emotion_Age_Gender' , image)\n",
    "    \n",
    "    if cv2.waitKey(10) == ord('q'):\n",
    "        break\n",
    "\n",
    "cap.release()\n",
    "cv2.destroyAllWindows"
   ]
  },
  {
   "cell_type": "code",
   "execution_count": null,
   "id": "a76362cc",
   "metadata": {},
   "outputs": [],
   "source": []
  }
 ],
 "metadata": {
  "kernelspec": {
   "display_name": "Python 3",
   "language": "python",
   "name": "python3"
  },
  "language_info": {
   "codemirror_mode": {
    "name": "ipython",
    "version": 3
   },
   "file_extension": ".py",
   "mimetype": "text/x-python",
   "name": "python",
   "nbconvert_exporter": "python",
   "pygments_lexer": "ipython3",
   "version": "3.8.8"
  }
 },
 "nbformat": 4,
 "nbformat_minor": 5
}
